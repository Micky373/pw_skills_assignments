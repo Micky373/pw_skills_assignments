{
 "cells": [
  {
   "cell_type": "markdown",
   "metadata": {},
   "source": [
    "# Topic 1"
   ]
  },
  {
   "cell_type": "code",
   "execution_count": 1,
   "metadata": {},
   "outputs": [
    {
     "name": "stdout",
     "output_type": "stream",
     "text": [
      "3\n",
      "1\n"
     ]
    }
   ],
   "source": [
    "# Assigning integer values to x and y\n",
    "\n",
    "x = 1\n",
    "y = 3\n",
    "\n",
    "# Interchanging x and y with out using third variable\n",
    "x = x + y\n",
    "y = x - y\n",
    "x = x - y\n",
    "\n",
    "# Printing the variables\n",
    "print(x)\n",
    "print(y)"
   ]
  },
  {
   "cell_type": "code",
   "execution_count": 2,
   "metadata": {},
   "outputs": [
    {
     "name": "stdout",
     "output_type": "stream",
     "text": [
      "Area of the rectangle is 120.0\n"
     ]
    }
   ],
   "source": [
    "# Asking a user to input length and width to calculate area of a rectangle\n",
    "\n",
    "length = input(\"Please enter length of the rectangle: \")\n",
    "width = input(\"Please enter width of the rectangle: \")\n",
    "\n",
    "# Calculating area\n",
    "try:\n",
    "    area = float(length) * float(width)\n",
    "    print(f\"Area of the rectangle is {area}\")\n",
    "\n",
    "except:\n",
    "    print(\"Please provide the correct length or width\")"
   ]
  },
  {
   "cell_type": "code",
   "execution_count": 3,
   "metadata": {},
   "outputs": [
    {
     "name": "stdout",
     "output_type": "stream",
     "text": [
      "Fahreneit conversion of 5 celcius is 41.0 fahrenheit\n"
     ]
    }
   ],
   "source": [
    "# Recieving the celcius amount to convert to Fahrenheit \n",
    "tc = input(\"Please enter the celcius temperature: \")\n",
    "\n",
    "# Coverting to Fahrenheit\n",
    "try:\n",
    "    tf = (float(tc )* (9/5)) + 32\n",
    "    print(f\"Fahreneit conversion of {tc} celcius is {round(tf,2)} fahrenheit\")\n",
    "\n",
    "except:\n",
    "    print(\"Please provide the correct celcius amount\")\n"
   ]
  },
  {
   "cell_type": "markdown",
   "metadata": {},
   "source": [
    "# Topic 2"
   ]
  },
  {
   "cell_type": "code",
   "execution_count": 4,
   "metadata": {},
   "outputs": [
    {
     "name": "stdout",
     "output_type": "stream",
     "text": [
      "Length of this string: Micky is coding\n",
      "is: 15\n"
     ]
    }
   ],
   "source": [
    "# Write a Python program that takes a string as input and prints the length of the string.\n",
    "\n",
    "string_input = input(\"Please enter the string you want: \")\n",
    "\n",
    "# Displaying the length of the string\n",
    "print(f\"Length of this string: {string_input}\\nis: {len(string_input)}\")\n"
   ]
  },
  {
   "cell_type": "code",
   "execution_count": 2,
   "metadata": {},
   "outputs": [
    {
     "name": "stdout",
     "output_type": "stream",
     "text": [
      "There are 2 vouls\n",
      "These are the vouls that occured: ['i', 'o']\n",
      "in: Micky is coding\n"
     ]
    }
   ],
   "source": [
    "# Create a program that takes a sentence from the user and counts the number of vowels (a, e, i, o, u) in the string.\n",
    "\n",
    "string_input = input(\"Please enter the string you want here: \")\n",
    "\n",
    "# Displaying the number of occurance of the vouls\n",
    "number_of_vouls = 0\n",
    "plural = \"\"\n",
    "vouls = []\n",
    "for voul in ['a', 'e', 'i' , 'o' , 'u']:\n",
    "    if voul in string_input.lower():\n",
    "        vouls.append(voul)\n",
    "        number_of_vouls += 1\n",
    "\n",
    "if number_of_vouls > 1:\n",
    "    plural = \"s\"\n",
    "\n",
    "print(f\"There are {number_of_vouls} voul{plural}\\nThese are the vouls that occured: {vouls}\\n\\\n",
    "in: {string_input}\")"
   ]
  },
  {
   "cell_type": "code",
   "execution_count": 6,
   "metadata": {},
   "outputs": [
    {
     "name": "stdout",
     "output_type": "stream",
     "text": [
      "gnidoc si ykciM\n"
     ]
    }
   ],
   "source": [
    "# Given a string, reverse the order of characters using string slicing and print the reversed string\n",
    "\n",
    "original_string = \"Micky is coding\"\n",
    "reversed_string = original_string[::-1]\n",
    "\n",
    "# Displaying the reversed string\n",
    "print(reversed_string)"
   ]
  },
  {
   "cell_type": "code",
   "execution_count": 7,
   "metadata": {},
   "outputs": [
    {
     "name": "stdout",
     "output_type": "stream",
     "text": [
      "The string: daD is palindrome\n"
     ]
    }
   ],
   "source": [
    "# Write a program that takes a string as input and checks if it is a palindrome (reads the same forwards and backwards).\n",
    "\n",
    "string_input = input(\"Please input a string here: \")\n",
    "\n",
    "if string_input.lower() == string_input[::-1].lower():\n",
    "    print(f\"The string: {string_input} is palindrome\")\n",
    "\n",
    "else:\n",
    "    print(f\"The string: {string_input} is not palindrome\")"
   ]
  },
  {
   "cell_type": "code",
   "execution_count": 8,
   "metadata": {},
   "outputs": [
    {
     "name": "stdout",
     "output_type": "stream",
     "text": [
      "Here is the modified string with no spaces: Mickyiscoding\n"
     ]
    }
   ],
   "source": [
    "# Create a program that takes a string as input and removes all the spaces from it. Print the modified string without spaces.\n",
    "\n",
    "string_input = input(\"Please enter the string here: \")\n",
    "\n",
    "modified_string = string_input.replace(\" \",\"\")\n",
    "\n",
    "print(f\"Here is the modified string with no spaces: {modified_string}\")"
   ]
  }
 ],
 "metadata": {
  "kernelspec": {
   "display_name": "pw_skills",
   "language": "python",
   "name": "python3"
  },
  "language_info": {
   "codemirror_mode": {
    "name": "ipython",
    "version": 3
   },
   "file_extension": ".py",
   "mimetype": "text/x-python",
   "name": "python",
   "nbconvert_exporter": "python",
   "pygments_lexer": "ipython3",
   "version": "3.11.4"
  },
  "orig_nbformat": 4
 },
 "nbformat": 4,
 "nbformat_minor": 2
}
